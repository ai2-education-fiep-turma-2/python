{
 "cells": [
  {
   "cell_type": "markdown",
   "metadata": {},
   "source": [
    "# Seção 18: AULA 2"
   ]
  },
  {
   "cell_type": "markdown",
   "metadata": {},
   "source": [
    "## Lendo arquivos .csv\n",
    "\n",
    "csv = comma separated values    \n",
    "\n",
    "a linha de **cabeçalho** pode não estar ou estar em outro arquivo"
   ]
  },
  {
   "cell_type": "code",
   "execution_count": 7,
   "metadata": {},
   "outputs": [
    {
     "name": "stdout",
     "output_type": "stream",
     "text": [
      "['Altura (em cm)\"\\n\"Ryu', 'JapÃ£o', '175\"\\n\"Ken', 'EUA', '175\"\\n\"Chun-Li', 'China', '165\"\\n\"Guile', 'EUA', '185\"\\n\"E. Honda', 'JapÃ£o', '185\"\\n\"Dhalsim', 'India', '176\"\\n\"Blanka', 'Brasil', '192\"\\n\"Zangief', 'RÃºssia', '214\"\\n']\n"
     ]
    }
   ],
   "source": [
    "# Possível de trabalhar mas não é o ideal, da trabalho\n",
    "\n",
    "with open('lutadores.csv') as arquivo:\n",
    "    dados = arquivo.read()\n",
    "    # print(type(dados))\n",
    "    dados = dados.split(';')[2:]\n",
    "    print(dados)"
   ]
  },
  {
   "cell_type": "markdown",
   "metadata": {},
   "source": [
    "### python tiene un módulo para trabajar com .csv\n",
    "\n",
    "- reader -> permite que iteremos sobre as linhas do arquivo CSV como listas\n",
    "- DictReader -> Permite que iteremos sobre as linhas do arquivo CSV como OrderedDict\n",
    "\n",
    "**ambos os métodos utilizam a vírgula como delimitador**\n"
   ]
  },
  {
   "cell_type": "markdown",
   "metadata": {},
   "source": [
    "# READER"
   ]
  },
  {
   "cell_type": "code",
   "execution_count": 14,
   "metadata": {},
   "outputs": [
    {
     "name": "stdout",
     "output_type": "stream",
     "text": [
      "<class '_csv.reader'>\n"
     ]
    },
    {
     "ename": "AttributeError",
     "evalue": "'_csv.reader' object has no attribute 'copy'",
     "output_type": "error",
     "traceback": [
      "\u001b[1;31m---------------------------------------------------------------------------\u001b[0m",
      "\u001b[1;31mAttributeError\u001b[0m                            Traceback (most recent call last)",
      "\u001b[1;32m<ipython-input-14-375d90ab6150>\u001b[0m in \u001b[0;36m<module>\u001b[1;34m\u001b[0m\n\u001b[0;32m      5\u001b[0m     \u001b[0mleitor_csv\u001b[0m \u001b[1;33m=\u001b[0m \u001b[0mreader\u001b[0m\u001b[1;33m(\u001b[0m\u001b[0marquivo\u001b[0m\u001b[1;33m)\u001b[0m  \u001b[1;31m#A função reader devolve um iterator\u001b[0m\u001b[1;33m\u001b[0m\u001b[1;33m\u001b[0m\u001b[0m\n\u001b[0;32m      6\u001b[0m     \u001b[0mprint\u001b[0m\u001b[1;33m(\u001b[0m\u001b[0mtype\u001b[0m\u001b[1;33m(\u001b[0m\u001b[0mleitor_csv\u001b[0m\u001b[1;33m)\u001b[0m\u001b[1;33m)\u001b[0m\u001b[1;33m\u001b[0m\u001b[1;33m\u001b[0m\u001b[0m\n\u001b[1;32m----> 7\u001b[1;33m     \u001b[0mx\u001b[0m \u001b[1;33m=\u001b[0m \u001b[0mleitor_csv\u001b[0m\u001b[1;33m.\u001b[0m\u001b[0mcopy\u001b[0m\u001b[1;33m(\u001b[0m\u001b[1;33m)\u001b[0m\u001b[1;33m\u001b[0m\u001b[1;33m\u001b[0m\u001b[0m\n\u001b[0m\u001b[0;32m      8\u001b[0m     \u001b[0mprint\u001b[0m\u001b[1;33m(\u001b[0m\u001b[0mx\u001b[0m\u001b[1;33m)\u001b[0m\u001b[1;33m\u001b[0m\u001b[1;33m\u001b[0m\u001b[0m\n\u001b[0;32m      9\u001b[0m     \u001b[0mnext\u001b[0m\u001b[1;33m(\u001b[0m\u001b[0mleitor_csv\u001b[0m\u001b[1;33m)\u001b[0m \u001b[1;31m#Pular o cabeçalho (1a linha), pega o próximo item\u001b[0m\u001b[1;33m\u001b[0m\u001b[1;33m\u001b[0m\u001b[0m\n",
      "\u001b[1;31mAttributeError\u001b[0m: '_csv.reader' object has no attribute 'copy'"
     ]
    }
   ],
   "source": [
    "from csv import reader\n",
    "\n",
    "# en linux quitar el: encoding=\"utf8\"\n",
    "with open('lutadores2.csv', encoding=\"utf8\") as arquivo:\n",
    "    leitor_csv = reader(arquivo)  #A função reader devolve um iterator\n",
    "    print(type(leitor_csv))\n",
    "    next(leitor_csv) #Pular o cabeçalho (1a linha), pega o próximo item\n",
    "    for linha in leitor_csv:\n",
    "        #cada linha é uma lista\n",
    "        print(f'{linha[0]} nasceu no(a)(s) {linha[1]} e mede {linha[2]}')\n",
    "        "
   ]
  },
  {
   "cell_type": "markdown",
   "metadata": {},
   "source": [
    "# DICTREADER"
   ]
  },
  {
   "cell_type": "code",
   "execution_count": null,
   "metadata": {},
   "outputs": [],
   "source": [
    "from csv import DictReader\n",
    "\n",
    "with open('lutadores.csv') as arquivo:\n",
    "    leitor_csv = DictReader(arquivo)\n",
    "    for linha in leitor_csv:\n",
    "        #cada linha é um OrderedDict\n",
    "        print(f\"{linha['Nome']} nasceu no(a)(s) {linha['País']} e mede {linha['Altura (em cm)']}\")\n",
    "        "
   ]
  },
  {
   "cell_type": "markdown",
   "metadata": {},
   "source": [
    "# Com outro SEPARADOR"
   ]
  },
  {
   "cell_type": "code",
   "execution_count": null,
   "metadata": {},
   "outputs": [],
   "source": [
    "from csv import DictReader\n",
    "\n",
    "with open('lutadores.csv') as arquivo:\n",
    "    leitor_csv = DictReader(arquivo, delimiter=',') #TROCAR EL DELIMITER AL QUE SEA EL CASO (\" : ; ' ' \")\n",
    "    for linha in leitor_csv:\n",
    "        #cada linha é um OrderedDict\n",
    "        print(f\"{linha['Nome']} nasceu no(a)(s) {linha['País']} e mede {linha['Altura (em cm)']}\")"
   ]
  },
  {
   "cell_type": "markdown",
   "metadata": {},
   "source": [
    "# Seção 18: AULA 3"
   ]
  },
  {
   "cell_type": "markdown",
   "metadata": {},
   "source": [
    "### Escrevendo em arquivos CSV\n",
    "\n",
    "reader() (leitor), writer() (escritor)    \n",
    "* writerow() -> escreve uma linha\n"
   ]
  },
  {
   "cell_type": "markdown",
   "metadata": {},
   "source": [
    "writer() --> Gera um objeto para que possamos escrever em um arquivo CSV. Utilizamos o método writerow() para escrever cada linha. Este método recebe uma lista."
   ]
  },
  {
   "cell_type": "code",
   "execution_count": null,
   "metadata": {},
   "outputs": [],
   "source": [
    "from csv import writer\n",
    "\n",
    "# o 'w' apaga o conteudo a cada vez que executar\n",
    "# o 'a' acrecenta conteúdo\n",
    "\n",
    "with open('filmes.csv', 'a') as arquivo:\n",
    "    escritor = writer(arquivo)\n",
    "    filme = None\n",
    "    escritor.writerow(['Título', 'Gênero', 'Duração'])\n",
    "    while filme != 'sair':\n",
    "        filme = input('Informe o nome do filme: ')\n",
    "        if filme != 'sair':\n",
    "            genero = input('Informe o gênero:')\n",
    "            duracao = input('Informe a duração (em minutos): ')\n",
    "            escritor.writerow([filme, genero, duracao])\n",
    "    \n"
   ]
  },
  {
   "cell_type": "markdown",
   "metadata": {},
   "source": [
    "### DictWriter"
   ]
  },
  {
   "cell_type": "code",
   "execution_count": null,
   "metadata": {},
   "outputs": [],
   "source": [
    "from csv import DictWriter\n",
    "\n",
    "# OBS: As chaves do dicionário devem ser as mesmas do cabeçalho\n",
    "\n",
    "with open('filmes1.csv', 'w') as arquivo:\n",
    "    cabecalho = ['Título', 'Gênero', 'Duração']\n",
    "    escritor_csv = DictWriter(arquivo, fieldnames=cabecalho) # el cabeçalho es del tipo kwargs\n",
    "    escritor_csv.writeheader()\n",
    "    filme = None\n",
    "    while filme != 'sair':\n",
    "        filme = input('Informe o nome do filme: ')\n",
    "        if filme != 'sair':\n",
    "            genero = input('Informe o gênero:')\n",
    "            duracao = input('Informe a duração (em minutos): ')\n",
    "            escritor_csv.writerow({\"Título\": filme, \"Gênero\": genero, \"Duração\": duracao})\n",
    "    \n",
    "    "
   ]
  },
  {
   "cell_type": "code",
   "execution_count": 12,
   "metadata": {
    "scrolled": true
   },
   "outputs": [
    {
     "name": "stdout",
     "output_type": "stream",
     "text": [
      "['US Airways Inc. (Merged with America West 9/05. Reporting for both starting 10/07.)']\n",
      "5\n",
      "11\n"
     ]
    }
   ],
   "source": [
    "a = [['ZX', 'Air Georgian'], ['ZX (1)', 'Airbc Ltd.'],['US', 'US Airways Inc. (Merged with America West 9/05. Reporting for both starting 10/07.)'], ['ZY', 'Atlantic Gulf Airlines'], ['ZYZ', 'Skyway Aviation Inc.']]\n",
    "b = ['US', 'US', 'US', 'US', 'US', 'US', 'US', 'US', 'US', 'US', 'US']\n",
    "\n",
    "companhia = []\n",
    "\n",
    "for i in range (len(a)):\n",
    "    for p in range (len(b)):\n",
    "        if b[i] == a[i][0]:  \n",
    "            companhia.append(a[i][1])\n",
    "\n",
    "# lista = [1, 1, 2, 1, 3, 4, 3, 6, 7, 6, 7, 8, 10 ,9]\n",
    "# sorted(set(lista))\n",
    "def remove_repetidos(l):\n",
    "    lista = l\n",
    "    i = 0\n",
    "    while i < len(lista):\n",
    "        j = i + 1\n",
    "        while j < len(lista):\n",
    "            if lista[j] == lista[i]:\n",
    "                del(lista[j])\n",
    "            else:\n",
    "                j += 1\n",
    "        i += 1\n",
    "\n",
    "    return sorted(lista)\n",
    "\n",
    "remove_repetidos(companhia)\n",
    "print(f'{companhia}')\n",
    "\n",
    "print(len(a))\n",
    "print(len(b))\n",
    "            \n",
    "\n",
    "\n",
    "            "
   ]
  },
  {
   "cell_type": "code",
   "execution_count": 2,
   "metadata": {},
   "outputs": [
    {
     "name": "stdout",
     "output_type": "stream",
     "text": [
      "companhia US Airways Inc. (Merged with America West 9/05. Reporting for both starting 10/07.)\n",
      "companhia US Airways Inc. (Merged with America West 9/05. Reporting for both starting 10/07.)\n",
      "companhia US Airways Inc. (Merged with America West 9/05. Reporting for both starting 10/07.)\n",
      "companhia US Airways Inc. (Merged with America West 9/05. Reporting for both starting 10/07.)\n"
     ]
    }
   ],
   "source": [
    "a = [['ZX', 'Air Georgian'], ['ZX (1)', 'Airbc Ltd.'], ['ZY', 'Atlantic Gulf Airlines'], ['ZYZ', 'Skyway Aviation Inc.'], ['US', 'US Airways Inc. (Merged with America West 9/05. Reporting for both starting 10/07.)']]\n",
    "b = ['US', 'US', 'US', 'US']\n",
    "\n",
    "companhia0 = []\n",
    "\n",
    "for i in range (len(b)):\n",
    "    for p in range (len(a)):\n",
    "        if b[i] == a[p][0]:  \n",
    "            print(f'companhia {a[p][1]}')\n",
    "            "
   ]
  },
  {
   "cell_type": "code",
   "execution_count": null,
   "metadata": {},
   "outputs": [],
   "source": [
    "a = [['ZX', 'Air Georgian'], ['ZX (1)', 'Airbc Ltd.'],['US', 'US Airways Inc. (Merged with America West 9/05. Reporting for both starting 10/07.)'], ['ZY', 'Atlantic Gulf Airlines'], ['ZYZ', 'Skyway Aviation Inc.']]\n",
    "b = ['US', 'US', 'US', 'US', 'US', 'US', 'US', 'US', 'US', 'US', 'US']\n",
    "\n",
    "companhia0 = []\n",
    "\n",
    "for i in range (len(a)):\n",
    "    for p in range (len(b)):\n",
    "        if b[i] == a[i][0]:  \n",
    "            print(f'companhia {a[i][1]}')"
   ]
  },
  {
   "cell_type": "code",
   "execution_count": 1,
   "metadata": {},
   "outputs": [
    {
     "name": "stdout",
     "output_type": "stream",
     "text": [
      "[0.5, 4, 1.5, 8, 2.5, 12]\n"
     ]
    }
   ],
   "source": [
    "numeros = [1, 2, 3, 4, 5, 6]\n",
    "res = [numero * 2 if numero % 2 == 0 else numero / 2 for numero in numeros]\n",
    "print(res)"
   ]
  },
  {
   "cell_type": "code",
   "execution_count": null,
   "metadata": {},
   "outputs": [],
   "source": []
  }
 ],
 "metadata": {
  "kernelspec": {
   "display_name": "Python 3",
   "language": "python",
   "name": "python3"
  },
  "language_info": {
   "codemirror_mode": {
    "name": "ipython",
    "version": 3
   },
   "file_extension": ".py",
   "mimetype": "text/x-python",
   "name": "python",
   "nbconvert_exporter": "python",
   "pygments_lexer": "ipython3",
   "version": "3.8.3"
  }
 },
 "nbformat": 4,
 "nbformat_minor": 4
}
